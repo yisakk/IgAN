{
 "cells": [
  {
   "cell_type": "markdown",
   "metadata": {},
   "source": [
    "## 0. Install and import packages"
   ]
  },
  {
   "cell_type": "markdown",
   "metadata": {},
   "source": [
    "### How to install \"openslide\" for python, see below"
   ]
  },
  {
   "cell_type": "code",
   "execution_count": 4,
   "metadata": {
    "collapsed": true,
    "jupyter": {
     "outputs_hidden": true
    }
   },
   "outputs": [
    {
     "name": "stdout",
     "output_type": "stream",
     "text": [
      "Reading package lists... Done\n",
      "Building dependency tree       \n",
      "Reading state information... Done\n",
      "The following additional packages will be installed:\n",
      "  libopenslide0\n",
      "Suggested packages:\n",
      "  libtiff-tools\n",
      "The following NEW packages will be installed:\n",
      "  libopenslide0 openslide-tools\n",
      "0 upgraded, 2 newly installed, 0 to remove and 22 not upgraded.\n",
      "Need to get 92.5 kB of archives.\n",
      "After this operation, 268 kB of additional disk space will be used.\n",
      "Get:1 http://archive.ubuntu.com/ubuntu bionic/universe amd64 libopenslide0 amd64 3.4.1+dfsg-2 [79.8 kB]\n",
      "Get:2 http://archive.ubuntu.com/ubuntu bionic/universe amd64 openslide-tools amd64 3.4.1+dfsg-2 [12.7 kB]\n",
      "Fetched 92.5 kB in 2s (54.4 kB/s)        \n",
      "debconf: unable to initialize frontend: Dialog\n",
      "debconf: (No usable dialog-like program is installed, so the dialog based frontend cannot be used. at /usr/share/perl5/Debconf/FrontEnd/Dialog.pm line 76, <> line 2.)\n",
      "debconf: falling back to frontend: Readline\n",
      "Selecting previously unselected package libopenslide0.\n",
      "(Reading database ... 81908 files and directories currently installed.)\n",
      "Preparing to unpack .../libopenslide0_3.4.1+dfsg-2_amd64.deb ...\n",
      "Unpacking libopenslide0 (3.4.1+dfsg-2) ...\n",
      "Selecting previously unselected package openslide-tools.\n",
      "Preparing to unpack .../openslide-tools_3.4.1+dfsg-2_amd64.deb ...\n",
      "Unpacking openslide-tools (3.4.1+dfsg-2) ...\n",
      "Setting up libopenslide0 (3.4.1+dfsg-2) ...\n",
      "Setting up openslide-tools (3.4.1+dfsg-2) ...\n",
      "Processing triggers for libc-bin (2.27-3ubuntu1.2) ...\n",
      "/sbin/ldconfig.real: File /usr/lib/x86_64-linux-gnu/libnvidia-allocator.so.450.80.02 is empty, not checked.\n",
      "/sbin/ldconfig.real: File /usr/lib/x86_64-linux-gnu/libcuda.so.450.80.02 is empty, not checked.\n",
      "/sbin/ldconfig.real: File /usr/lib/x86_64-linux-gnu/libnvidia-compiler.so.450.80.02 is empty, not checked.\n",
      "/sbin/ldconfig.real: File /usr/lib/x86_64-linux-gnu/libnvidia-opencl.so.450.80.02 is empty, not checked.\n",
      "/sbin/ldconfig.real: File /usr/lib/x86_64-linux-gnu/libnvidia-ml.so.450.80.02 is empty, not checked.\n",
      "/sbin/ldconfig.real: File /usr/lib/x86_64-linux-gnu/libnvidia-cfg.so.450.80.02 is empty, not checked.\n",
      "/sbin/ldconfig.real: File /usr/lib/x86_64-linux-gnu/libnvidia-ptxjitcompiler.so.450.80.02 is empty, not checked.\n",
      "Processing triggers for man-db (2.8.3-2ubuntu0.1) ...\n"
     ]
    }
   ],
   "source": [
    "!apt-get install --yes openslide-tools"
   ]
  },
  {
   "cell_type": "code",
   "execution_count": 5,
   "metadata": {
    "collapsed": true,
    "jupyter": {
     "outputs_hidden": true
    }
   },
   "outputs": [
    {
     "name": "stdout",
     "output_type": "stream",
     "text": [
      "Collecting openslide-python\n",
      "  Downloading openslide-python-1.1.2.tar.gz (316 kB)\n",
      "\u001b[K     |████████████████████████████████| 316 kB 1.3 MB/s eta 0:00:01\n",
      "\u001b[?25hRequirement already satisfied: Pillow in /usr/local/lib/python3.6/dist-packages (from openslide-python) (8.0.1)\n",
      "Building wheels for collected packages: openslide-python\n",
      "  Building wheel for openslide-python (setup.py) ... \u001b[?25ldone\n",
      "\u001b[?25h  Created wheel for openslide-python: filename=openslide_python-1.1.2-cp36-cp36m-linux_x86_64.whl size=26750 sha256=4f2bb2a3a88d19eb148fc6cef7a1077c085c34edd0aa629e621e23c63c3180e0\n",
      "  Stored in directory: /root/.cache/pip/wheels/ac/d1/f8/f226d1f46dfe6c8fc332167949f318bd2fcb4e228aa4731259\n",
      "Successfully built openslide-python\n",
      "Installing collected packages: openslide-python\n",
      "Successfully installed openslide-python-1.1.2\n",
      "\u001b[33mWARNING: You are using pip version 20.3.1; however, version 21.0.1 is available.\n",
      "You should consider upgrading via the '/usr/bin/python3.6 -m pip install --upgrade pip' command.\u001b[0m\n"
     ]
    }
   ],
   "source": [
    "!pip install openslide-python"
   ]
  },
  {
   "cell_type": "markdown",
   "metadata": {},
   "source": [
    "### Import pakages"
   ]
  },
  {
   "cell_type": "code",
   "execution_count": 2,
   "metadata": {},
   "outputs": [],
   "source": [
    "import openslide\n",
    "import matplotlib.pyplot as plt\n",
    "import numpy as np\n",
    "from tqdm import tqdm\n",
    "import cv2\n",
    "import os\n",
    "import random\n",
    "import shutil\n",
    "import scipy.misc\n",
    "import scipy.ndimage\n",
    "from skimage import io\n",
    "from skimage import morphology\n",
    "from skimage import measure\n",
    "\n",
    "from lxml import etree\n",
    "import math\n",
    "import glob\n",
    "from PIL import Image\n",
    "import imutils\n",
    "\n",
    "# copy & paste directory into path_common \n",
    "path_common = '../'"
   ]
  },
  {
   "cell_type": "markdown",
   "metadata": {},
   "source": [
    "## 1. Sample .svs, .xml"
   ]
  },
  {
   "cell_type": "markdown",
   "metadata": {},
   "source": [
    "### Show .svs"
   ]
  },
  {
   "cell_type": "code",
   "execution_count": 3,
   "metadata": {},
   "outputs": [],
   "source": [
    "fname_WSI = 'S 050026746_8_PAS.svs'\n",
    "path_WSI = os.path.join(path_common, 'data/', fname_WSI)\n",
    "path_out_tissue_mask = os.path.join(path_common , 'mask/')\n",
    "if not os.path.exists(path_out_tissue_mask):\n",
    "    os.makedirs(path_out_tissue_mask)"
   ]
  },
  {
   "cell_type": "code",
   "execution_count": 4,
   "metadata": {},
   "outputs": [
    {
     "name": "stdout",
     "output_type": "stream",
     "text": [
      "level 0 dimensions (x,y):         (151391, 47659)\n",
      "**************************************************\n",
      "level 2 dimensions (x,y):         (37847, 11914)\n",
      "level 0 dimensions divided by 4 :  37847 11914\n",
      "**************************************************\n",
      "level 4 dimensions (x,y):         (9461, 2978)\n",
      "level 0 dimensions divided by 16 :  9461 2978\n",
      "**************************************************\n",
      "level 8 dimensions (x,y):         (2365, 744)\n",
      "level 0 dimensions divided by 64 :  2365 744\n",
      "**************************************************\n"
     ]
    }
   ],
   "source": [
    "# comparing WSI dimensions by resolution level\n",
    "\n",
    "org_slide = openslide.OpenSlide(path_WSI) # original tif load\n",
    " \n",
    "dims_level_0 = org_slide.level_dimensions[0]\n",
    "print('level 0 dimensions (x,y):        ', dims_level_0)\n",
    "print('*'*50)\n",
    "dims_level_1 = org_slide.level_dimensions[1]\n",
    "print('level 2 dimensions (x,y):        ', dims_level_1)\n",
    "print('level 0 dimensions divided by 4 : ', int(dims_level_0[0]/4), int(dims_level_0[1]/4))\n",
    "print('*'*50)\n",
    "\n",
    "dims_level_2 = org_slide.level_dimensions[2]\n",
    "print('level 4 dimensions (x,y):        ', dims_level_2)\n",
    "print('level 0 dimensions divided by 16 : ', int(dims_level_0[0]/16), int(dims_level_0[1]/16))\n",
    "print('*'*50)\n",
    "\n",
    "dims_level_3 = org_slide.level_dimensions[3]\n",
    "print('level 8 dimensions (x,y):        ', dims_level_3)\n",
    "print('level 0 dimensions divided by 64 : ', int(dims_level_0[0]/64), int(dims_level_0[1]/64))\n",
    "print('*'*50)"
   ]
  },
  {
   "cell_type": "code",
   "execution_count": 5,
   "metadata": {},
   "outputs": [
    {
     "name": "stdout",
     "output_type": "stream",
     "text": [
      "(37847, 11914)\n",
      "37847 11914\n"
     ]
    },
    {
     "data": {
      "image/png": "[encoded data removed]",
      "text/plain": [
       "<Figure size 432x288 with 1 Axes>"
      ]
     },
     "metadata": {
      "needs_background": "light"
     },
     "output_type": "display_data"
    }
   ],
   "source": [
    "# visualize WSI at level 2\n",
    "\n",
    "LEVEL_OPENSLIDE = 1   # set resolution level (level 2 =  1/4 resolution)\n",
    "dims_level_2 = org_slide.level_dimensions[LEVEL_OPENSLIDE]\n",
    "print(dims_level_2)\n",
    "\n",
    "WSI_array = np.array(org_slide.read_region([0, 0],LEVEL_OPENSLIDE, [dims_level_2[0], dims_level_2[1]]))[:,:,0:3]\n",
    "print(WSI_array.shape[1],WSI_array.shape[0])\n",
    "\n",
    "plt.imshow(WSI_array)\n",
    "plt.show()"
   ]
  },
  {
   "cell_type": "code",
   "execution_count": 6,
   "metadata": {},
   "outputs": [
    {
     "data": {
      "image/png": "[encoded data removed]",
      "text/plain": [
       "<Figure size 432x288 with 1 Axes>"
      ]
     },
     "metadata": {
      "needs_background": "light"
     },
     "output_type": "display_data"
    }
   ],
   "source": [
    "plt.imshow(WSI_array[:10000, 19000:22000])\n",
    "plt.show()"
   ]
  },
  {
   "cell_type": "markdown",
   "metadata": {},
   "source": [
    "### Make mask from .xml"
   ]
  },
  {
   "cell_type": "code",
   "execution_count": 7,
   "metadata": {},
   "outputs": [],
   "source": [
    "fname_XML = 'S 050026746_8_PAS.xml'\n",
    "path_XML = os.path.join(path_common, 'data/', 'S 050026746_8_PAS.xml')"
   ]
  },
  {
   "cell_type": "code",
   "execution_count": 8,
   "metadata": {},
   "outputs": [],
   "source": [
    "def make_mask(path_WSI, path_XML, id_list):\n",
    "    tree = etree.parse(path_XML)\n",
    "    root = tree.getroot()\n",
    "\n",
    "    cnt = []\n",
    "\n",
    "    for root_ in (root.iter('Annotation')):\n",
    "    # class level\n",
    "    #     print(root_.attrib)        \n",
    "        if root_.attrib['Id'] in id_list:\n",
    "            for anno_ in (root_.iter('Region')):\n",
    "                # single tissue level\n",
    "                rect_ = []\n",
    "\n",
    "                for child in anno_.iter(\"Vertex\"):\n",
    "                    # contour points level\n",
    "                    cooldinates = child.attrib\n",
    "\n",
    "                    x_ = int(round(float(cooldinates.get('X')))) // 4\n",
    "                    y_ = int(round(float(cooldinates.get('Y')))) // 4\n",
    "                    rect_.append((x_, y_))\n",
    "\n",
    "                cnt.append(rect_)\n",
    "\n",
    "    image = openslide.OpenSlide(path_WSI)\n",
    "    w,h = image.level_dimensions[1]\n",
    "\n",
    "    mask = np.zeros((h,w),dtype=np.uint8)\n",
    "\n",
    "    for i in range(len(cnt)):\n",
    "        mask_pts = np.array(cnt[i]).reshape((-1, 1, 2)).astype(np.int32)\n",
    "        cv2.fillPoly(mask, [mask_pts], [255])\n",
    "    \n",
    "    return mask, cnt"
   ]
  },
  {
   "cell_type": "code",
   "execution_count": 9,
   "metadata": {},
   "outputs": [
    {
     "name": "stdout",
     "output_type": "stream",
     "text": [
      "Num of masks:  8\n"
     ]
    }
   ],
   "source": [
    "id_list = ['1', '2', '3', '4', '5', '6']\n",
    "mask_, cnt_ = make_mask(path_WSI, path_XML, id_list)\n",
    "print('Num of masks: ', len(cnt_))"
   ]
  },
  {
   "cell_type": "code",
   "execution_count": 10,
   "metadata": {},
   "outputs": [
    {
     "data": {
      "image/png": "[encoded data removed]",
      "text/plain": [
       "<Figure size 432x288 with 1 Axes>"
      ]
     },
     "metadata": {
      "needs_background": "light"
     },
     "output_type": "display_data"
    }
   ],
   "source": [
    "plt.imshow(mask_)\n",
    "plt.show()"
   ]
  },
  {
   "cell_type": "code",
   "execution_count": 11,
   "metadata": {},
   "outputs": [
    {
     "data": {
      "image/png": "[encoded data removed]",
      "text/plain": [
       "<Figure size 432x288 with 1 Axes>"
      ]
     },
     "metadata": {
      "needs_background": "light"
     },
     "output_type": "display_data"
    }
   ],
   "source": [
    "plt.imshow(mask_[:10000, 19000:22000])\n",
    "plt.show()"
   ]
  },
  {
   "cell_type": "markdown",
   "metadata": {},
   "source": [
    "### Layers"
   ]
  },
  {
   "cell_type": "code",
   "execution_count": 12,
   "metadata": {},
   "outputs": [
    {
     "name": "stdout",
     "output_type": "stream",
     "text": [
      "Num of masks1:  4\n",
      "Num of masks2:  2\n",
      "Num of masks3:  0\n",
      "Num of masks4:  2\n",
      "Num of masks5:  0\n",
      "Num of masks6:  0\n"
     ]
    }
   ],
   "source": [
    "masks = []\n",
    "for i in id_list:\n",
    "    mask, cnt = make_mask(path_WSI, path_XML, i)\n",
    "    print(f'Num of masks{i}: ', len(cnt))\n",
    "    masks.append(mask)"
   ]
  },
  {
   "cell_type": "code",
   "execution_count": 13,
   "metadata": {},
   "outputs": [
    {
     "data": {
      "image/png": "[encoded data removed]",
      "text/plain": [
       "<Figure size 864x288 with 6 Axes>"
      ]
     },
     "metadata": {
      "needs_background": "light"
     },
     "output_type": "display_data"
    }
   ],
   "source": [
    "plt.figure(figsize=(12, 4))\n",
    "\n",
    "for i in range(6):\n",
    "    plt.subplot(161+i)\n",
    "    plt.title(f'Layer{1+i}')\n",
    "    plt.imshow(masks[i][:10000, 19000:22000])\n",
    "    \n",
    "plt.show()"
   ]
  },
  {
   "cell_type": "markdown",
   "metadata": {},
   "source": [
    "## 2. Extract labels"
   ]
  },
  {
   "cell_type": "code",
   "execution_count": 14,
   "metadata": {},
   "outputs": [],
   "source": [
    "import pandas as pd"
   ]
  },
  {
   "cell_type": "code",
   "execution_count": 15,
   "metadata": {},
   "outputs": [
    {
     "name": "stdout",
     "output_type": "stream",
     "text": [
      "Num of masks1:  4\n",
      "Num of masks2:  2\n",
      "Num of masks3:  0\n",
      "Num of masks4:  2\n",
      "Num of masks5:  0\n",
      "Num of masks6:  0\n"
     ]
    }
   ],
   "source": [
    "gloms = {}\n",
    "for i in id_list:\n",
    "    mask, cnt = make_mask(path_WSI, path_XML, i)\n",
    "    print(f'Num of masks{i}: ', len(cnt))\n",
    "    gloms[i]=cnt"
   ]
  },
  {
   "cell_type": "code",
   "execution_count": 40,
   "metadata": {},
   "outputs": [
    {
     "name": "stdout",
     "output_type": "stream",
     "text": [
      "Num of masks1:  4\n",
      "Num of masks2:  2\n",
      "Num of masks3:  0\n",
      "Num of masks4:  2\n",
      "Num of masks5:  0\n",
      "Num of masks6:  0\n"
     ]
    }
   ],
   "source": [
    "df = pd.DataFrame()\n",
    "for i in id_list:\n",
    "    label_dict = {}\n",
    "    label_dict[\"filename\"] = path_WSI.split('/')[-1]\n",
    "    mask, cnt = make_mask(path_WSI, path_XML, i)\n",
    "    print(f'Num of masks{i}: ', len(cnt))\n",
    "    label_dict[\"layer\"] = i\n",
    "    label_dict[\"cnt\"] = cnt\n",
    "    label_df = pd.DataFrame(label_dict)\n",
    "    df = pd.concat([df, label_df], axis=0)\n",
    "df = df.reset_index(drop=True)"
   ]
  },
  {
   "cell_type": "code",
   "execution_count": 41,
   "metadata": {},
   "outputs": [
    {
     "data": {
      "text/html": [
       "<div>\n",
       "<style scoped>\n",
       "    .dataframe tbody tr th:only-of-type {\n",
       "        vertical-align: middle;\n",
       "    }\n",
       "\n",
       "    .dataframe tbody tr th {\n",
       "        vertical-align: top;\n",
       "    }\n",
       "\n",
       "    .dataframe thead th {\n",
       "        text-align: right;\n",
       "    }\n",
       "</style>\n",
       "<table border=\"1\" class=\"dataframe\">\n",
       "  <thead>\n",
       "    <tr style=\"text-align: right;\">\n",
       "      <th></th>\n",
       "      <th>filename</th>\n",
       "      <th>layer</th>\n",
       "      <th>cnt</th>\n",
       "    </tr>\n",
       "  </thead>\n",
       "  <tbody>\n",
       "    <tr>\n",
       "      <th>0</th>\n",
       "      <td>S 050026746_8_PAS.svs</td>\n",
       "      <td>1</td>\n",
       "      <td>[(20571, 923), (20567, 925), (20562, 927), (20...</td>\n",
       "    </tr>\n",
       "    <tr>\n",
       "      <th>1</th>\n",
       "      <td>S 050026746_8_PAS.svs</td>\n",
       "      <td>1</td>\n",
       "      <td>[(21575, 7165), (21582, 7162), (21589, 7159), ...</td>\n",
       "    </tr>\n",
       "    <tr>\n",
       "      <th>2</th>\n",
       "      <td>S 050026746_8_PAS.svs</td>\n",
       "      <td>1</td>\n",
       "      <td>[(21236, 8250), (21232, 8249), (21228, 8248), ...</td>\n",
       "    </tr>\n",
       "    <tr>\n",
       "      <th>3</th>\n",
       "      <td>S 050026746_8_PAS.svs</td>\n",
       "      <td>1</td>\n",
       "      <td>[(21321, 9090), (21323, 9088), (21326, 9084), ...</td>\n",
       "    </tr>\n",
       "    <tr>\n",
       "      <th>4</th>\n",
       "      <td>S 050026746_8_PAS.svs</td>\n",
       "      <td>2</td>\n",
       "      <td>[(21018, 7092), (21021, 7089), (21023, 7086), ...</td>\n",
       "    </tr>\n",
       "    <tr>\n",
       "      <th>5</th>\n",
       "      <td>S 050026746_8_PAS.svs</td>\n",
       "      <td>2</td>\n",
       "      <td>[(21329, 9588), (21325, 9588), (21321, 9587), ...</td>\n",
       "    </tr>\n",
       "    <tr>\n",
       "      <th>6</th>\n",
       "      <td>S 050026746_8_PAS.svs</td>\n",
       "      <td>4</td>\n",
       "      <td>[(21035, 7696), (21036, 7701), (21036, 7707), ...</td>\n",
       "    </tr>\n",
       "    <tr>\n",
       "      <th>7</th>\n",
       "      <td>S 050026746_8_PAS.svs</td>\n",
       "      <td>4</td>\n",
       "      <td>[(21259, 9233), (21259, 9235), (21259, 9238), ...</td>\n",
       "    </tr>\n",
       "  </tbody>\n",
       "</table>\n",
       "</div>"
      ],
      "text/plain": [
       "                filename layer  \\\n",
       "0  S 050026746_8_PAS.svs     1   \n",
       "1  S 050026746_8_PAS.svs     1   \n",
       "2  S 050026746_8_PAS.svs     1   \n",
       "3  S 050026746_8_PAS.svs     1   \n",
       "4  S 050026746_8_PAS.svs     2   \n",
       "5  S 050026746_8_PAS.svs     2   \n",
       "6  S 050026746_8_PAS.svs     4   \n",
       "7  S 050026746_8_PAS.svs     4   \n",
       "\n",
       "                                                 cnt  \n",
       "0  [(20571, 923), (20567, 925), (20562, 927), (20...  \n",
       "1  [(21575, 7165), (21582, 7162), (21589, 7159), ...  \n",
       "2  [(21236, 8250), (21232, 8249), (21228, 8248), ...  \n",
       "3  [(21321, 9090), (21323, 9088), (21326, 9084), ...  \n",
       "4  [(21018, 7092), (21021, 7089), (21023, 7086), ...  \n",
       "5  [(21329, 9588), (21325, 9588), (21321, 9587), ...  \n",
       "6  [(21035, 7696), (21036, 7701), (21036, 7707), ...  \n",
       "7  [(21259, 9233), (21259, 9235), (21259, 9238), ...  "
      ]
     },
     "execution_count": 41,
     "metadata": {},
     "output_type": "execute_result"
    }
   ],
   "source": [
    "df"
   ]
  },
  {
   "cell_type": "code",
   "execution_count": 42,
   "metadata": {},
   "outputs": [],
   "source": [
    "pts_dict = {\"rmost\": [], \"bmost\": [], \"lmost\": [], \"tmost\": []}\n",
    "for cnt_pt in df.cnt:\n",
    "    rmost, bmost = np.array(cnt_pt).max(axis=0)\n",
    "    lmost, tmost = np.array(cnt_pt).min(axis=0)\n",
    "    pts_dict[\"rmost\"].append(rmost)\n",
    "    pts_dict[\"bmost\"].append(bmost)\n",
    "    pts_dict[\"lmost\"].append(lmost)\n",
    "    pts_dict[\"tmost\"].append(tmost)\n",
    "pts_df = pd.DataFrame(pts_dict)\n",
    "df = pd.concat([df, pts_df], axis=1)"
   ]
  },
  {
   "cell_type": "code",
   "execution_count": 43,
   "metadata": {},
   "outputs": [
    {
     "data": {
      "text/html": [
       "<div>\n",
       "<style scoped>\n",
       "    .dataframe tbody tr th:only-of-type {\n",
       "        vertical-align: middle;\n",
       "    }\n",
       "\n",
       "    .dataframe tbody tr th {\n",
       "        vertical-align: top;\n",
       "    }\n",
       "\n",
       "    .dataframe thead th {\n",
       "        text-align: right;\n",
       "    }\n",
       "</style>\n",
       "<table border=\"1\" class=\"dataframe\">\n",
       "  <thead>\n",
       "    <tr style=\"text-align: right;\">\n",
       "      <th></th>\n",
       "      <th>filename</th>\n",
       "      <th>layer</th>\n",
       "      <th>cnt</th>\n",
       "      <th>rmost</th>\n",
       "      <th>bmost</th>\n",
       "      <th>lmost</th>\n",
       "      <th>tmost</th>\n",
       "    </tr>\n",
       "  </thead>\n",
       "  <tbody>\n",
       "    <tr>\n",
       "      <th>0</th>\n",
       "      <td>S 050026746_8_PAS.svs</td>\n",
       "      <td>1</td>\n",
       "      <td>[(20571, 923), (20567, 925), (20562, 927), (20...</td>\n",
       "      <td>20621</td>\n",
       "      <td>937</td>\n",
       "      <td>20487</td>\n",
       "      <td>834</td>\n",
       "    </tr>\n",
       "    <tr>\n",
       "      <th>1</th>\n",
       "      <td>S 050026746_8_PAS.svs</td>\n",
       "      <td>1</td>\n",
       "      <td>[(21575, 7165), (21582, 7162), (21589, 7159), ...</td>\n",
       "      <td>21619</td>\n",
       "      <td>7176</td>\n",
       "      <td>21451</td>\n",
       "      <td>6894</td>\n",
       "    </tr>\n",
       "    <tr>\n",
       "      <th>2</th>\n",
       "      <td>S 050026746_8_PAS.svs</td>\n",
       "      <td>1</td>\n",
       "      <td>[(21236, 8250), (21232, 8249), (21228, 8248), ...</td>\n",
       "      <td>21275</td>\n",
       "      <td>8390</td>\n",
       "      <td>21158</td>\n",
       "      <td>8246</td>\n",
       "    </tr>\n",
       "    <tr>\n",
       "      <th>3</th>\n",
       "      <td>S 050026746_8_PAS.svs</td>\n",
       "      <td>1</td>\n",
       "      <td>[(21321, 9090), (21323, 9088), (21326, 9084), ...</td>\n",
       "      <td>21370</td>\n",
       "      <td>9104</td>\n",
       "      <td>21174</td>\n",
       "      <td>8889</td>\n",
       "    </tr>\n",
       "    <tr>\n",
       "      <th>4</th>\n",
       "      <td>S 050026746_8_PAS.svs</td>\n",
       "      <td>2</td>\n",
       "      <td>[(21018, 7092), (21021, 7089), (21023, 7086), ...</td>\n",
       "      <td>21028</td>\n",
       "      <td>7116</td>\n",
       "      <td>20922</td>\n",
       "      <td>6993</td>\n",
       "    </tr>\n",
       "    <tr>\n",
       "      <th>5</th>\n",
       "      <td>S 050026746_8_PAS.svs</td>\n",
       "      <td>2</td>\n",
       "      <td>[(21329, 9588), (21325, 9588), (21321, 9587), ...</td>\n",
       "      <td>21339</td>\n",
       "      <td>9693</td>\n",
       "      <td>21240</td>\n",
       "      <td>9585</td>\n",
       "    </tr>\n",
       "    <tr>\n",
       "      <th>6</th>\n",
       "      <td>S 050026746_8_PAS.svs</td>\n",
       "      <td>4</td>\n",
       "      <td>[(21035, 7696), (21036, 7701), (21036, 7707), ...</td>\n",
       "      <td>21037</td>\n",
       "      <td>7763</td>\n",
       "      <td>20855</td>\n",
       "      <td>7539</td>\n",
       "    </tr>\n",
       "    <tr>\n",
       "      <th>7</th>\n",
       "      <td>S 050026746_8_PAS.svs</td>\n",
       "      <td>4</td>\n",
       "      <td>[(21259, 9233), (21259, 9235), (21259, 9238), ...</td>\n",
       "      <td>21262</td>\n",
       "      <td>9306</td>\n",
       "      <td>21091</td>\n",
       "      <td>9141</td>\n",
       "    </tr>\n",
       "  </tbody>\n",
       "</table>\n",
       "</div>"
      ],
      "text/plain": [
       "                filename layer  \\\n",
       "0  S 050026746_8_PAS.svs     1   \n",
       "1  S 050026746_8_PAS.svs     1   \n",
       "2  S 050026746_8_PAS.svs     1   \n",
       "3  S 050026746_8_PAS.svs     1   \n",
       "4  S 050026746_8_PAS.svs     2   \n",
       "5  S 050026746_8_PAS.svs     2   \n",
       "6  S 050026746_8_PAS.svs     4   \n",
       "7  S 050026746_8_PAS.svs     4   \n",
       "\n",
       "                                                 cnt  rmost  bmost  lmost  \\\n",
       "0  [(20571, 923), (20567, 925), (20562, 927), (20...  20621    937  20487   \n",
       "1  [(21575, 7165), (21582, 7162), (21589, 7159), ...  21619   7176  21451   \n",
       "2  [(21236, 8250), (21232, 8249), (21228, 8248), ...  21275   8390  21158   \n",
       "3  [(21321, 9090), (21323, 9088), (21326, 9084), ...  21370   9104  21174   \n",
       "4  [(21018, 7092), (21021, 7089), (21023, 7086), ...  21028   7116  20922   \n",
       "5  [(21329, 9588), (21325, 9588), (21321, 9587), ...  21339   9693  21240   \n",
       "6  [(21035, 7696), (21036, 7701), (21036, 7707), ...  21037   7763  20855   \n",
       "7  [(21259, 9233), (21259, 9235), (21259, 9238), ...  21262   9306  21091   \n",
       "\n",
       "   tmost  \n",
       "0    834  \n",
       "1   6894  \n",
       "2   8246  \n",
       "3   8889  \n",
       "4   6993  \n",
       "5   9585  \n",
       "6   7539  \n",
       "7   9141  "
      ]
     },
     "execution_count": 43,
     "metadata": {},
     "output_type": "execute_result"
    }
   ],
   "source": [
    "df"
   ]
  },
  {
   "cell_type": "code",
   "execution_count": 44,
   "metadata": {},
   "outputs": [],
   "source": [
    "df.to_csv(os.path.join(path_out_tissue_mask, \"test.csv\"), index=False)"
   ]
  },
  {
   "cell_type": "code",
   "execution_count": 18,
   "metadata": {},
   "outputs": [],
   "source": [
    "max_lst = []\n",
    "min_lst = []\n",
    "for pts in df.cnt:\n",
    "    max_lst.append(np.array(pts).max(axis=0))\n",
    "    min_lst.append(np.array(pts).min(axis=0))\n",
    "rmost, bmost = np.array(max_lst).max(axis=0)\n",
    "lmost, tmost = np.array(min_lst).min(axis=0)"
   ]
  },
  {
   "cell_type": "code",
   "execution_count": 19,
   "metadata": {},
   "outputs": [
    {
     "data": {
      "image/png": "[encoded data removed]",
      "text/plain": [
       "<Figure size 432x288 with 1 Axes>"
      ]
     },
     "metadata": {
      "needs_background": "light"
     },
     "output_type": "display_data"
    }
   ],
   "source": [
    "plt.imshow(mask_[tmost:bmost, lmost:rmost])\n",
    "plt.show()"
   ]
  },
  {
   "cell_type": "code",
   "execution_count": 23,
   "metadata": {},
   "outputs": [
    {
     "data": {
      "image/png": "[encoded data removed]",
      "text/plain": [
       "<Figure size 432x288 with 2 Axes>"
      ]
     },
     "metadata": {
      "needs_background": "light"
     },
     "output_type": "display_data"
    }
   ],
   "source": [
    "padding = 512\n",
    "crop_mask = mask_[tmost-padding:bmost+padding, lmost-padding:rmost+padding]\n",
    "crop_img = WSI_array[tmost-padding:bmost+padding, lmost-padding:rmost+padding]\n",
    "plt.subplot(121)\n",
    "plt.imshow(crop_img)\n",
    "plt.subplot(122)\n",
    "plt.imshow(crop_mask)\n",
    "plt.show()"
   ]
  },
  {
   "cell_type": "markdown",
   "metadata": {},
   "source": [
    "## 3. Save as .tiff"
   ]
  },
  {
   "cell_type": "code",
   "execution_count": 24,
   "metadata": {},
   "outputs": [],
   "source": [
    "WSI_im = Image.fromarray(crop_img)\n",
    "mask_im = Image.fromarray(crop_mask)"
   ]
  },
  {
   "cell_type": "code",
   "execution_count": 25,
   "metadata": {},
   "outputs": [],
   "source": [
    "WSI_im.save(os.path.join(path_common, 'data/', f\"{fname_WSI[:-4]}.tiff\"))\n",
    "mask_im.save(os.path.join(path_common, 'mask/', f\"{fname_WSI[:-4]}_mask.tiff\"))"
   ]
  },
  {
   "cell_type": "code",
   "execution_count": null,
   "metadata": {},
   "outputs": [],
   "source": []
  }
 ],
 "metadata": {
  "kernelspec": {
   "display_name": "Python 3",
   "language": "python",
   "name": "python3"
  },
  "language_info": {
   "codemirror_mode": {
    "name": "ipython",
    "version": 3
   },
   "file_extension": ".py",
   "mimetype": "text/x-python",
   "name": "python",
   "nbconvert_exporter": "python",
   "pygments_lexer": "ipython3",
   "version": "3.6.9"
  }
 },
 "nbformat": 4,
 "nbformat_minor": 4
}
